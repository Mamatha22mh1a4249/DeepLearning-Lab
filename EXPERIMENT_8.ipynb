{
  "nbformat": 4,
  "nbformat_minor": 0,
  "metadata": {
    "colab": {
      "provenance": [],
      "authorship_tag": "ABX9TyM45vGEmxFR1+wpNvnvZwD4",
      "include_colab_link": true
    },
    "kernelspec": {
      "name": "python3",
      "display_name": "Python 3"
    },
    "language_info": {
      "name": "python"
    }
  },
  "cells": [
    {
      "cell_type": "markdown",
      "metadata": {
        "id": "view-in-github",
        "colab_type": "text"
      },
      "source": [
        "<a href=\"https://colab.research.google.com/github/Mamatha22mh1a4249/DeepLearning-Lab/blob/main/EXPERIMENT_8.ipynb\" target=\"_parent\"><img src=\"https://colab.research.google.com/assets/colab-badge.svg\" alt=\"Open In Colab\"/></a>"
      ]
    },
    {
      "cell_type": "code",
      "execution_count": null,
      "metadata": {
        "id": "pHelzkISkz8y"
      },
      "outputs": [],
      "source": [
        "from tensorflow.keras.preprocessing.text import one_hot"
      ]
    },
    {
      "cell_type": "code",
      "source": [
        "words = ['apple', 'banana', 'cherry', 'apple', 'cherry', 'banana', 'apple']"
      ],
      "metadata": {
        "id": "7tSQky2Xk7mR"
      },
      "execution_count": 9,
      "outputs": []
    },
    {
      "cell_type": "code",
      "source": [
        "vocab = set(words)"
      ],
      "metadata": {
        "id": "-3FSIqRJk-XO"
      },
      "execution_count": 10,
      "outputs": []
    },
    {
      "cell_type": "code",
      "source": [
        "word_to_int = {word: i for i, word in enumerate(vocab)}"
      ],
      "metadata": {
        "id": "iSIkwOrplCxI"
      },
      "execution_count": 11,
      "outputs": []
    },
    {
      "cell_type": "code",
      "source": [
        "int_words = [word_to_int[word] for word in words]"
      ],
      "metadata": {
        "id": "6OV_ush-lIAj"
      },
      "execution_count": 12,
      "outputs": []
    },
    {
      "cell_type": "code",
      "source": [
        "one_hot_words = []\n",
        "for int_word in int_words:\n",
        "    one_hot_word = [0] * len(vocab)\n",
        "    one_hot_word[int_word] = 1\n",
        "    one_hot_words.append(one_hot_word)\n",
        "\n",
        "print(one_hot_words)"
      ],
      "metadata": {
        "colab": {
          "base_uri": "https://localhost:8080/"
        },
        "id": "J2oYsB95lLrP",
        "outputId": "b9f23797-b765-4fc1-d9a0-1a0ea39d6c48"
      },
      "execution_count": 13,
      "outputs": [
        {
          "output_type": "stream",
          "name": "stdout",
          "text": [
            "[[1, 0, 0], [0, 1, 0], [0, 0, 1], [1, 0, 0], [0, 0, 1], [0, 1, 0], [1, 0, 0]]\n"
          ]
        }
      ]
    },
    {
      "cell_type": "code",
      "source": [
        "import string"
      ],
      "metadata": {
        "id": "v9KW5QQVlOhu"
      },
      "execution_count": 2,
      "outputs": []
    },
    {
      "cell_type": "code",
      "source": [
        "input_string = 'hello world'"
      ],
      "metadata": {
        "id": "ngrOpJg1lR7q"
      },
      "execution_count": 3,
      "outputs": []
    },
    {
      "cell_type": "code",
      "source": [
        "vocab = set(input_string)"
      ],
      "metadata": {
        "id": "T0juCIcelWt7"
      },
      "execution_count": 4,
      "outputs": []
    },
    {
      "cell_type": "code",
      "source": [
        "char_to_int = {char: i for i, char in enumerate(vocab)}"
      ],
      "metadata": {
        "id": "7eUpUZlSlZWD"
      },
      "execution_count": 5,
      "outputs": []
    },
    {
      "cell_type": "code",
      "source": [
        "int_chars = [char_to_int[char] for char in input_string]"
      ],
      "metadata": {
        "id": "tBSc7amwlbxS"
      },
      "execution_count": 6,
      "outputs": []
    },
    {
      "cell_type": "code",
      "source": [
        "one_hot_chars = []\n",
        "for int_char in int_chars:\n",
        "    one_hot_char = [0] * len(vocab)\n",
        "    one_hot_char[int_char] = 1\n",
        "    one_hot_chars.append(one_hot_char)\n",
        "\n",
        "print(one_hot_chars)"
      ],
      "metadata": {
        "colab": {
          "base_uri": "https://localhost:8080/"
        },
        "id": "ro_SLF2Dlel3",
        "outputId": "4cba8118-2398-4b58-c045-e1aadc52c2da"
      },
      "execution_count": 7,
      "outputs": [
        {
          "output_type": "stream",
          "name": "stdout",
          "text": [
            "[[0, 0, 0, 0, 0, 1, 0, 0], [0, 0, 0, 0, 0, 0, 1, 0], [1, 0, 0, 0, 0, 0, 0, 0], [1, 0, 0, 0, 0, 0, 0, 0], [0, 0, 0, 0, 1, 0, 0, 0], [0, 0, 0, 1, 0, 0, 0, 0], [0, 0, 0, 0, 0, 0, 0, 1], [0, 0, 0, 0, 1, 0, 0, 0], [0, 1, 0, 0, 0, 0, 0, 0], [1, 0, 0, 0, 0, 0, 0, 0], [0, 0, 1, 0, 0, 0, 0, 0]]\n"
          ]
        }
      ]
    },
    {
      "cell_type": "code",
      "source": [],
      "metadata": {
        "id": "xZ07v137lhQc"
      },
      "execution_count": null,
      "outputs": []
    }
  ]
}